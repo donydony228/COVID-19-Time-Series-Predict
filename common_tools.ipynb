{
 "cells": [
  {
   "cell_type": "code",
   "execution_count": 2,
   "metadata": {},
   "outputs": [],
   "source": [
    "import pandas as pd"
   ]
  },
  {
   "cell_type": "code",
   "execution_count": 4,
   "metadata": {},
   "outputs": [],
   "source": [
    "def read_covid_data() -> pd.DataFrame:\n",
    "    # This function import the specified data and return it as a pandas DataFrame\n",
    "\n",
    "    data = pd.read_csv('data\\owid-covid-data.csv')\n",
    "    print(data['iso_code'].unique())\n",
    "    location = input('Enter the location you need:')\n",
    "    data = data[data['iso_code'] == location]\n",
    "\n",
    "    return data\n",
    "\n",
    "# How to use the function\n",
    "# data = read_covid_data()"
   ]
  }
 ],
 "metadata": {
  "kernelspec": {
   "display_name": "Python 3",
   "language": "python",
   "name": "python3"
  },
  "language_info": {
   "codemirror_mode": {
    "name": "ipython",
    "version": 3
   },
   "file_extension": ".py",
   "mimetype": "text/x-python",
   "name": "python",
   "nbconvert_exporter": "python",
   "pygments_lexer": "ipython3",
   "version": "3.10.11"
  }
 },
 "nbformat": 4,
 "nbformat_minor": 2
}
